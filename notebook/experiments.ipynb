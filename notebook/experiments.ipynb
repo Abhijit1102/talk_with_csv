{
 "cells": [
  {
   "cell_type": "code",
   "execution_count": 32,
   "id": "0af6d6f5-6e5e-48b1-b575-7b9b7359c5a8",
   "metadata": {},
   "outputs": [],
   "source": [
    "from dotenv import load_dotenv\n",
    "import os\n",
    "load_dotenv()\n",
    "OPENAI_API_KEY = os.getenv(\"OPENAI_API_KEY\")"
   ]
  },
  {
   "cell_type": "code",
   "execution_count": 33,
   "id": "00b6e8f1-40e8-4bd4-be42-b9b231090d23",
   "metadata": {},
   "outputs": [],
   "source": [
    "import pandas as pd"
   ]
  },
  {
   "cell_type": "code",
   "execution_count": null,
   "id": "90b0d8b9-b01e-4b98-8070-62287d0a20f6",
   "metadata": {},
   "outputs": [],
   "source": []
  },
  {
   "cell_type": "code",
   "execution_count": 35,
   "id": "33f97200-4688-46b1-8c5d-8b6c38e45975",
   "metadata": {},
   "outputs": [],
   "source": [
    "from langchain_experimental.agents.agent_toolkits import create_csv_agent"
   ]
  },
  {
   "cell_type": "code",
   "execution_count": 36,
   "id": "10ea7459-e03b-47e8-adfa-69a96496187d",
   "metadata": {},
   "outputs": [],
   "source": [
    "from langchain_openai import ChatOpenAI"
   ]
  },
  {
   "cell_type": "code",
   "execution_count": 37,
   "id": "1640a5f3-3afa-434c-8947-25d096f79446",
   "metadata": {},
   "outputs": [],
   "source": [
    "llm = ChatOpenAI(api_key=OPENAI_API_KEY,temperature=0.5)"
   ]
  },
  {
   "cell_type": "code",
   "execution_count": 38,
   "id": "b305e065-1883-4072-8f22-5e18c518444d",
   "metadata": {},
   "outputs": [],
   "source": [
    "agent_executer = create_csv_agent(\n",
    "    llm, \"uploads\\data.csv\", verbose=True)\n",
    "    "
   ]
  },
  {
   "cell_type": "code",
   "execution_count": 28,
   "id": "ad7cf789-530b-434b-9b05-cc6997de26fc",
   "metadata": {},
   "outputs": [
    {
     "data": {
      "text/plain": [
       "417"
      ]
     },
     "execution_count": 28,
     "metadata": {},
     "output_type": "execute_result"
    }
   ],
   "source": [
    "df[\"W\"].sum()"
   ]
  },
  {
   "cell_type": "code",
   "execution_count": 39,
   "id": "90bf6aa9-fd56-43a0-ac18-f004408200ee",
   "metadata": {},
   "outputs": [
    {
     "name": "stdout",
     "output_type": "stream",
     "text": [
      "\n",
      "\n",
      "\u001b[1m> Entering new AgentExecutor chain...\u001b[0m\n",
      "\u001b[32;1m\u001b[1;3mThought: To find the total amount of wins, we need to sum up the 'W' column in the dataframe.\n",
      "Action: python_repl_ast\n",
      "Action Input: df['W'].sum()\u001b[0m\u001b[36;1m\u001b[1;3m417\u001b[0m\u001b[32;1m\u001b[1;3mI now know the final answer\n",
      "Final Answer: The total amount of wins is 417.\u001b[0m\n",
      "\n",
      "\u001b[1m> Finished chain.\u001b[0m\n"
     ]
    },
    {
     "data": {
      "text/plain": [
       "{'input': 'find total amount of wins',\n",
       " 'output': 'The total amount of wins is 417.'}"
      ]
     },
     "execution_count": 39,
     "metadata": {},
     "output_type": "execute_result"
    }
   ],
   "source": [
    "# find total amount of wins\n",
    "agent_executer.invoke(\"find total amount of wins\")"
   ]
  },
  {
   "cell_type": "code",
   "execution_count": 40,
   "id": "809b0cef-1e92-420c-a7d9-4d638be84c09",
   "metadata": {},
   "outputs": [
    {
     "name": "stdout",
     "output_type": "stream",
     "text": [
      "\n",
      "\n",
      "\u001b[1m> Entering new AgentExecutor chain...\u001b[0m\n",
      "\u001b[32;1m\u001b[1;3mThought: We can use the `df.info()` method to get a summary of the dataset including the data types and non-null values in each column.\n",
      "Action: python_repl_ast\n",
      "Action Input: df.info()\u001b[0m\u001b[36;1m\u001b[1;3m<class 'pandas.core.frame.DataFrame'>\n",
      "RangeIndex: 21 entries, 0 to 20\n",
      "Data columns (total 36 columns):\n",
      " #   Column           Non-Null Count  Dtype  \n",
      "---  ------           --------------  -----  \n",
      " 0   Year             21 non-null     int64  \n",
      " 1   Age              21 non-null     int64  \n",
      " 2   Tm               21 non-null     object \n",
      " 3   Lg               21 non-null     object \n",
      " 4   W                21 non-null     int64  \n",
      " 5   L                21 non-null     int64  \n",
      " 6   W-L%             21 non-null     float64\n",
      " 7   ERA              21 non-null     float64\n",
      " 8   G                21 non-null     int64  \n",
      " 9   GS               21 non-null     int64  \n",
      " 10  GF               21 non-null     int64  \n",
      " 11  CG               21 non-null     int64  \n",
      " 12  SHO              21 non-null     int64  \n",
      " 13  SV               21 non-null     int64  \n",
      " 14  IP               21 non-null     float64\n",
      " 15  H                21 non-null     int64  \n",
      " 16  R                21 non-null     int64  \n",
      " 17  ER               21 non-null     int64  \n",
      " 18  HR               21 non-null     int64  \n",
      " 19  BB               21 non-null     int64  \n",
      " 20  IBB              0 non-null      float64\n",
      " 21  SO               21 non-null     int64  \n",
      " 22  HBP              21 non-null     int64  \n",
      " 23  BK               21 non-null     int64  \n",
      " 24  WP               21 non-null     int64  \n",
      " 25  BF               21 non-null     int64  \n",
      " 26  ERA+             21 non-null     int64  \n",
      " 27  FIP              21 non-null     float64\n",
      " 28  WHIP             21 non-null     float64\n",
      " 29  H9               21 non-null     float64\n",
      " 30  HR9              21 non-null     float64\n",
      " 31  BB9              21 non-null     float64\n",
      " 32  SO9              21 non-null     float64\n",
      " 33  SO/W             21 non-null     float64\n",
      " 34  Awards           6 non-null      object \n",
      " 35  Year-additional  21 non-null     int64  \n",
      "dtypes: float64(11), int64(22), object(3)\n",
      "memory usage: 6.0+ KB\n",
      "\u001b[0m\u001b[32;1m\u001b[1;3mThe dataset has 21 entries and 36 columns. It includes a mix of data types such as int64, float64, and object. Some columns have missing values, such as the 'IBB' and 'Awards' columns.\n",
      "Final Answer: The dataset contains 21 entries and 36 columns with a mix of data types, including int64, float64, and object. Some columns have missing values.\u001b[0m\n",
      "\n",
      "\u001b[1m> Finished chain.\u001b[0m\n"
     ]
    },
    {
     "data": {
      "text/plain": [
       "{'input': 'Summary of the datasets',\n",
       " 'output': 'The dataset contains 21 entries and 36 columns with a mix of data types, including int64, float64, and object. Some columns have missing values.'}"
      ]
     },
     "execution_count": 40,
     "metadata": {},
     "output_type": "execute_result"
    }
   ],
   "source": [
    "# Summary\n",
    "agent_executer.invoke(\"Summary of the datasets\")"
   ]
  },
  {
   "cell_type": "code",
   "execution_count": null,
   "id": "59f0ec18-2577-4a63-abed-f79fdc422d76",
   "metadata": {},
   "outputs": [],
   "source": []
  },
  {
   "cell_type": "code",
   "execution_count": null,
   "id": "cdcdeb1a-fb8e-47fd-ba6d-ec300d487879",
   "metadata": {},
   "outputs": [],
   "source": []
  }
 ],
 "metadata": {
  "kernelspec": {
   "display_name": "Python 3 (ipykernel)",
   "language": "python",
   "name": "python3"
  },
  "language_info": {
   "codemirror_mode": {
    "name": "ipython",
    "version": 3
   },
   "file_extension": ".py",
   "mimetype": "text/x-python",
   "name": "python",
   "nbconvert_exporter": "python",
   "pygments_lexer": "ipython3",
   "version": "3.10.12"
  }
 },
 "nbformat": 4,
 "nbformat_minor": 5
}
